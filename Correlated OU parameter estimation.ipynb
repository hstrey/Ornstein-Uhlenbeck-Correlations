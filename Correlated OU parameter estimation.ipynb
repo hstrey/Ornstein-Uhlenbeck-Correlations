{
 "cells": [
  {
   "cell_type": "code",
   "execution_count": 230,
   "metadata": {},
   "outputs": [
    {
     "name": "stdout",
     "output_type": "stream",
     "text": [
      "['seaborn-dark', 'seaborn-darkgrid', 'seaborn-ticks', 'fivethirtyeight', 'seaborn-whitegrid', 'classic', '_classic_test', 'fast', 'seaborn-talk', 'seaborn-dark-palette', 'seaborn-bright', 'seaborn-pastel', 'grayscale', 'seaborn-notebook', 'ggplot', 'seaborn-colorblind', 'seaborn-muted', 'seaborn', 'Solarize_Light2', 'seaborn-paper', 'bmh', 'tableau-colorblind10', 'seaborn-white', 'dark_background', 'seaborn-poster', 'seaborn-deep']\n"
     ]
    }
   ],
   "source": [
    "%matplotlib inline\n",
    "import numpy as np\n",
    "import matplotlib.pyplot as plt\n",
    "import pandas as pd\n",
    "import langevin\n",
    "from scipy.stats import pearsonr\n",
    "from scipy.optimize import root\n",
    "\n",
    "SMALL_SIZE = 16\n",
    "MEDIUM_SIZE = 18\n",
    "BIGGER_SIZE = 20\n",
    "\n",
    "plt.rc('font', size=SMALL_SIZE)          # controls default text sizes\n",
    "plt.rc('axes', titlesize=SMALL_SIZE)     # fontsize of the axes title\n",
    "plt.rc('axes', labelsize=MEDIUM_SIZE)    # fontsize of the x and y labels\n",
    "plt.rc('xtick', labelsize=SMALL_SIZE)    # fontsize of the tick labels\n",
    "plt.rc('ytick', labelsize=SMALL_SIZE)    # fontsize of the tick labels\n",
    "plt.rc('legend', fontsize=SMALL_SIZE)    # legend fontsize\n",
    "plt.rc('figure', titlesize=BIGGER_SIZE)  # fontsize of the figure title\n",
    "\n",
    "#SEED = 35010732 # from random.org\n",
    "#np.random.seed(SEED)\n",
    "\n",
    "print(plt.style.available)\n",
    "plt.style.use('seaborn-white')"
   ]
  },
  {
   "cell_type": "code",
   "execution_count": 231,
   "metadata": {},
   "outputs": [],
   "source": [
    "def correlated_ts(c,delta_t = 0.1,N=1000):\n",
    "    # parameters for coupled oscillator\n",
    "    K,D = 1.0,1.0\n",
    "    data1 = langevin.time_series(A=1/K, D=D, delta_t=delta_t, N=N)\n",
    "    data2 = langevin.time_series(A=1/(K+np.abs(c)), D=D, delta_t=delta_t, N=N)\n",
    "    x1 = (data1 + data2)/2\n",
    "    if c>0:\n",
    "        x2 = (data1 - data2)/2\n",
    "    else:\n",
    "        x2 = (data2-data1)/2\n",
    "\n",
    "    return x1,x2\n",
    "\n",
    "def c_rho(rho):\n",
    "    return 2*np.abs(rho)/(1-np.abs(rho))*np.sign(rho)\n"
   ]
  },
  {
   "cell_type": "code",
   "execution_count": 232,
   "metadata": {},
   "outputs": [
    {
     "name": "stdout",
     "output_type": "stream",
     "text": [
      "N:  1000 delta t:  0.3 rho:  0.5\n",
      "Pearson r,p:  (0.4929269165429059, 2.4187146602917064e-62)\n",
      "0.3102517238517878 0.32035160338809177\n"
     ]
    }
   ],
   "source": [
    "N = 1000\n",
    "delta_t = 0.3\n",
    "rho = 0.5\n",
    "print(\"N: \",N,\"delta t: \",delta_t,\"rho: \",rho)\n",
    "\n",
    "x1,x2 = correlated_ts(c_rho(rho),delta_t=delta_t,N=N)\n",
    "print(\"Pearson r,p: \",pearsonr(x1,x2))\n",
    "print(x1.std()**2,x2.std()**2)"
   ]
  },
  {
   "cell_type": "code",
   "execution_count": 233,
   "metadata": {},
   "outputs": [],
   "source": [
    "def calc_fundstats(x):\n",
    "    return x[0]**2+x[-1]**2,np.sum(x[1:-1]**2),np.sum(x[0:-1]*x[1:])"
   ]
  },
  {
   "cell_type": "code",
   "execution_count": 234,
   "metadata": {},
   "outputs": [],
   "source": [
    "def b(D,A,delta_t):\n",
    "    return np.exp(-D/A*delta_t)\n",
    "\n",
    "def q(aep,ass,ac,b):\n",
    "    return (aep + (1+b**2)*ass - 2*b*ac)/(1-b**2)\n",
    "\n",
    "def dqdB(aep,ass,ac,b):\n",
    "    return 2*(b*aep+2*b*ass-(1+b**2)*ac)/(1-b**2)**2\n",
    "\n",
    "def d2qdB2(aep,ass,ac,b):\n",
    "    return (6*b+2)/(1-b**2)**3*(aep+2*ass)-(4*b**3+12*b)/(1-b**2)**3*ac\n",
    "\n",
    "def dBdA(b,D,A,delta_t):\n",
    "    return b*D*delta_t/A**2\n",
    "\n",
    "def dBdD(b,A,delta_t):\n",
    "    return -b*delta_t/A\n",
    "\n",
    "def d2BdA2(b,D,A,delta_t):\n",
    "    return b*D*delta_t/A**3*(D*delta_t/A-2)\n",
    "\n",
    "def d2BdD2(b,A,delta_t):\n",
    "    return b*delta_t**2/A**2\n",
    "\n",
    "def d2BdAdD(b,D,A,delta_t):\n",
    "    return b*delta_t/A**2*(1-D*delta_t/A)\n",
    "\n",
    "def d2qdD2(aep,ass,ac,b,A,delta_t):\n",
    "    return d2qdB2(aep,ass,ac,b)*dBdD(b,A,delta_t)**2+dqdB(aep,ass,ac,b)*d2BdD2(b,A,delta_t)\n",
    "\n",
    "def d2qdA2(aep,ass,ac,b,D,A,delta_t):\n",
    "    return d2qdB2(aep,ass,ac,b)*dBdA(b,D,A,delta_t)**2+dqdB(aep,ass,ac,b)*d2BdA2(b,D,A,delta_t)\n",
    "\n",
    "def d2qdAdD(aep,ass,ac,b,D,A,delta_t):\n",
    "    return d2qdB2(aep,ass,ac,b)*dBdA(b,D,A,delta_t)*dBdD(b,A,delta_t)+dqdB(aep,ass,ac,b)*d2BdAdD(b,D,A,delta_t)\n",
    "\n",
    "def d2PdA2(N,aep,ass,ac,b,D,A,delta_t):\n",
    "    return (N/2/A**2 - \n",
    "            q(aep,ass,ac,b)/A**3 +\n",
    "            (N-1)/(1-b**2)*(b*d2BdA2(b,D,A,delta_t) + dBdA(b,D,A,delta_t)**2*(1+b**2)/(1-b**2)) -\n",
    "            d2qdA2(aep,ass,ac,b,D,A,delta_t)/2/A)\n",
    "        \n",
    "def d2PdAdD(N,aep,ass,ac,b,D,A,delta_t):\n",
    "    return (dqdB(aep,ass,ac,b)*dBdD(b,A,delta_t)/2/A**2 -\n",
    "            d2qdAdD(aep,ass,ac,b,D,A,delta_t)/2/A +\n",
    "            (N-1)/(1-b**2)*(b*d2BdAdD(b,D,A,delta_t) + dBdA(b,D,A,delta_t)*dBdD(b,A,delta_t)*(1+b**2)/(1-b**2)))\n",
    "\n",
    "def d2PdD2(N,a1ep,a1ss,a1c,a2ep,a2ss,a2c,b1,b2,D,A1,A2,delta_t):\n",
    "    return ((N-1)/(1-b1**2)*(b1*d2BdD2(b1,A1,delta_t) + dBdD(b1,A1,delta_t)**2*(1+b1**2)/(1-b1**2))+\n",
    "           (N-1)/(1-b2**2)*(b2*d2BdD2(b2,A2,delta_t) + dBdD(b2,A2,delta_t)**2*(1+b2**2)/(1-b2**2))-\n",
    "           d2qdD2(a1ep,a1ss,a1c,b1,A1,delta_t)/2/A1 -\n",
    "           d2qdD2(a2ep,a2ss,a2c,b2,A2,delta_t)/2/A2)\n",
    "           \n",
    "def phi_deriv(x,a1ep,a1ss,a1c,a2ep,a2ss,a2c,delta_t,N):\n",
    "    # x[0] = A1, x[1] = A2, x[2]=D\n",
    "    A1 = x[0]\n",
    "    A2 = x[1]\n",
    "    D = x[2]\n",
    "    b1 = b(D,A1,delta_t)\n",
    "    b2 = b(D,A2,delta_t)\n",
    "    Q1 = q(a1ep,a1ss,a1c,b1)\n",
    "    Q2 = q(a2ep,a2ss,a2c,b2)\n",
    "    dQ1 = dqdB(a1ep,a1ss,a1c,b1)\n",
    "    dQ2 = dqdB(a2ep,a2ss,a2c,b2)\n",
    "    y1 = -N*A1**2/2 + A1*Q1/2 + b1*D*delta_t*(A1*b1*(N-1)/(1-b1**2)-dQ1/2)\n",
    "    y2 = -N*A2**2/2 + A2*Q2/2 + b2*D*delta_t*(A2*b2*(N-1)/(1-b2**2)-dQ2/2)\n",
    "    y3 = (b1*(N-1)/(1-b1**2)-dQ1/A1/2)*b1/A1 + (b2*(N-1)/(1-b2**2)-dQ2/A2/2)*b2/A2\n",
    "    return np.array([y1,y2,y3])"
   ]
  },
  {
   "cell_type": "code",
   "execution_count": 235,
   "metadata": {},
   "outputs": [],
   "source": [
    "def d2PdA2N(N,b,A,delta_t):\n",
    "    return -N/2/A - N/(1-b**2)**2*dBdA(b,D,A,delta_t)**2*(1+b**2+6*b/(1+b))\n",
    "\n",
    "def d2PdAdDN(N,b,D,A,delta_t):\n",
    "    return N*b/(1-b**2)*dBdD(b,A,delta_t) - N/(1-b**2)**2*dBdA(b,D,A,delta_t)*dBdD(b,A,delta_t)*(1+b**2+6*b/(1+b))\n",
    "\n",
    "def d2PdD2N(N,b1,b2,D,A1,A2,delta_t):\n",
    "    return (-N/(1-b1**2)**2*dBdD(b1,A1,delta_t)**2*(1+b1**2+6*b1/(1+b1))-\n",
    "            N/(1-b2**2)**2*dBdD(b2,A2,delta_t)**2*(1+b2**2+6*b2/(1+b2)))"
   ]
  },
  {
   "cell_type": "code",
   "execution_count": 236,
   "metadata": {},
   "outputs": [
    {
     "data": {
      "text/plain": [
       "(6.605239114246895,\n",
       " 935.326004368374,\n",
       " 680.8314611449022,\n",
       " 0.7599070807485191,\n",
       " 319.9984843555729,\n",
       " 129.87999203247017,\n",
       " 0.3,\n",
       " 1000)"
      ]
     },
     "execution_count": 236,
     "metadata": {},
     "output_type": "execute_result"
    }
   ],
   "source": [
    "para = calc_fundstats(x1+x2) + calc_fundstats(x1-x2) +(delta_t,N)\n",
    "para"
   ]
  },
  {
   "cell_type": "code",
   "execution_count": 237,
   "metadata": {},
   "outputs": [
    {
     "name": "stdout",
     "output_type": "stream",
     "text": [
      "0.9414048099536099 0.31980184452614946 0.5 0.49286368987948936\n",
      "[0.94622229 0.32182729 0.99090163]\n"
     ]
    }
   ],
   "source": [
    "guessa1 = (x1+x2).std()**2\n",
    "guessa2 = (x1-x2).std()**2\n",
    "guessd = 0.5\n",
    "c_guess = (guessa1-guessa2)/guessa2\n",
    "print(guessa1,guessa2,guessd,c_guess/(2+c_guess))\n",
    "result = root(phi_deriv, [guessa1,guessa2,guessd],args=para)\n",
    "print(result.x)\n",
    "#print(phi_deriv(result.x,*para))\n",
    "#print(phi_deriv([guessa1,guessa2,guessd],*para))\n",
    "A1 = result.x[0]\n",
    "A2 = result.x[1]\n",
    "D = result.x[2]"
   ]
  },
  {
   "cell_type": "code",
   "execution_count": 238,
   "metadata": {},
   "outputs": [
    {
     "name": "stdout",
     "output_type": "stream",
     "text": [
      "1.9401555884183797 0.4924058314146875\n"
     ]
    }
   ],
   "source": [
    "c_max = (result.x[0]-result.x[1])/result.x[1]\n",
    "rho_max = c_max/(2+c_max)\n",
    "print(c_max,rho_max)"
   ]
  },
  {
   "cell_type": "code",
   "execution_count": 239,
   "metadata": {},
   "outputs": [],
   "source": [
    "# lets calculate the Jacobian\n",
    "b1 = b(D,A1,delta_t)\n",
    "b2 = b(D,A2,delta_t)\n",
    "a1ep,a1ss,a1c = calc_fundstats(x1+x2)\n",
    "a2ep,a2ss,a2c = calc_fundstats(x1-x2)\n",
    "d2PdA2_1m = d2PdA2(N,a1ep,a1ss,a1c,b1,D,A1,delta_t)\n",
    "d2PdA2_2m = d2PdA2(N,a2ep,a2ss,a2c,b2,D,A2,delta_t)\n",
    "d2PdD2m = d2PdD2(N,a1ep,a1ss,a1c,a2ep,a2ss,a2c,b1,b2,D,A1,A2,delta_t)\n",
    "d2PdAdD_1m = d2PdAdD(N,a1ep,a1ss,a1c,b1,D,A1,delta_t)\n",
    "d2PdAdD_2m = d2PdAdD(N,a2ep,a2ss,a2c,b2,D,A2,delta_t)"
   ]
  },
  {
   "cell_type": "code",
   "execution_count": 240,
   "metadata": {},
   "outputs": [
    {
     "data": {
      "text/plain": [
       "array([[-1662.37791334,     0.        ,   659.47528081],\n",
       "       [    0.        , -9941.3207248 ,  1154.3027933 ],\n",
       "       [  659.47528081,  1154.3027933 , -1546.0432258 ]])"
      ]
     },
     "execution_count": 240,
     "metadata": {},
     "output_type": "execute_result"
    }
   ],
   "source": [
    "hessian = np.array([[d2PdA2_1m,0,d2PdAdD_1m],[0,d2PdA2_2m,d2PdAdD_2m],[d2PdAdD_1m,d2PdAdD_2m,d2PdD2m]])\n",
    "hessian"
   ]
  },
  {
   "cell_type": "code",
   "execution_count": 241,
   "metadata": {},
   "outputs": [
    {
     "data": {
      "text/plain": [
       "array([[7.38349039e-04, 4.00402246e-05, 3.44842547e-04],\n",
       "       [4.00402246e-05, 1.12309603e-04, 1.00931736e-04],\n",
       "       [3.44842547e-04, 1.00931736e-04, 8.69264777e-04]])"
      ]
     },
     "execution_count": 241,
     "metadata": {},
     "output_type": "execute_result"
    }
   ],
   "source": [
    "var = -np.linalg.inv(hessian)\n",
    "var"
   ]
  },
  {
   "cell_type": "code",
   "execution_count": 242,
   "metadata": {},
   "outputs": [
    {
     "name": "stdout",
     "output_type": "stream",
     "text": [
      "0.027172578811905147\n",
      "0.010597622521531912\n",
      "0.029483296579821388\n"
     ]
    }
   ],
   "source": [
    "print(np.sqrt(var[0,0]))\n",
    "print(np.sqrt(var[1,1]))\n",
    "print(np.sqrt(var[2,2]))"
   ]
  },
  {
   "cell_type": "code",
   "execution_count": 243,
   "metadata": {},
   "outputs": [],
   "source": [
    "d2PdA2_1mN = d2PdA2N(N,b1,A1,delta_t)\n",
    "d2PdA2_2mN = d2PdA2N(N,b2,A2,delta_t)\n",
    "d2PdD2mN = d2PdD2N(N,b1,b2,D,A1,A2,delta_t)\n",
    "d2PdAdD_1mN = d2PdAdDN(N,b1,D,A1,delta_t)\n",
    "d2PdAdD_2mN = d2PdAdDN(N,b2,D,A2,delta_t)"
   ]
  },
  {
   "cell_type": "code",
   "execution_count": 244,
   "metadata": {},
   "outputs": [
    {
     "data": {
      "text/plain": [
       "array([[-1627.13710156,     0.        ,   686.62055323],\n",
       "       [    0.        , -6793.44517403,  1527.34085529],\n",
       "       [  686.62055323,  1527.34085529, -1554.58651463]])"
      ]
     },
     "execution_count": 244,
     "metadata": {},
     "output_type": "execute_result"
    }
   ],
   "source": [
    "hessian2 = np.array([[d2PdA2_1mN,0,d2PdAdD_1mN],[0,d2PdA2_2mN,d2PdAdD_2mN],[d2PdAdD_1mN,d2PdAdD_2mN,d2PdD2mN]])\n",
    "hessian2"
   ]
  },
  {
   "cell_type": "code",
   "execution_count": 245,
   "metadata": {},
   "outputs": [
    {
     "data": {
      "text/plain": [
       "array([[0.00080782, 0.00010296, 0.00045795],\n",
       "       [0.00010296, 0.00020206, 0.00024399],\n",
       "       [0.00045795, 0.00024399, 0.00108523]])"
      ]
     },
     "execution_count": 245,
     "metadata": {},
     "output_type": "execute_result"
    }
   ],
   "source": [
    "var2 = -np.linalg.inv(hessian2)\n",
    "var2"
   ]
  },
  {
   "cell_type": "code",
   "execution_count": 246,
   "metadata": {},
   "outputs": [
    {
     "name": "stdout",
     "output_type": "stream",
     "text": [
      "0.0284222011471951\n",
      "0.014214625419704667\n",
      "0.03294288703087906\n"
     ]
    }
   ],
   "source": [
    "print(np.sqrt(var2[0,0]))\n",
    "print(np.sqrt(var2[1,1]))\n",
    "print(np.sqrt(var2[2,2]))"
   ]
  }
 ],
 "metadata": {
  "kernelspec": {
   "display_name": "Python 3",
   "language": "python",
   "name": "python3"
  },
  "language_info": {
   "codemirror_mode": {
    "name": "ipython",
    "version": 3
   },
   "file_extension": ".py",
   "mimetype": "text/x-python",
   "name": "python",
   "nbconvert_exporter": "python",
   "pygments_lexer": "ipython3",
   "version": "3.6.10"
  }
 },
 "nbformat": 4,
 "nbformat_minor": 2
}
