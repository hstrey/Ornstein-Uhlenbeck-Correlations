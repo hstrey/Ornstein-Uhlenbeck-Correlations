{
 "cells": [
  {
   "cell_type": "code",
   "execution_count": 105,
   "metadata": {},
   "outputs": [
    {
     "name": "stdout",
     "output_type": "stream",
     "text": [
      "['seaborn-dark', 'seaborn-darkgrid', 'seaborn-ticks', 'fivethirtyeight', 'seaborn-whitegrid', 'classic', '_classic_test', 'fast', 'seaborn-talk', 'seaborn-dark-palette', 'seaborn-bright', 'seaborn-pastel', 'grayscale', 'seaborn-notebook', 'ggplot', 'seaborn-colorblind', 'seaborn-muted', 'seaborn', 'Solarize_Light2', 'seaborn-paper', 'bmh', 'tableau-colorblind10', 'seaborn-white', 'dark_background', 'seaborn-poster', 'seaborn-deep']\n"
     ]
    }
   ],
   "source": [
    "%matplotlib inline\n",
    "import numpy as np\n",
    "import matplotlib.pyplot as plt\n",
    "import pandas as pd\n",
    "import langevin\n",
    "from scipy.stats import pearsonr\n",
    "from scipy.optimize import root\n",
    "\n",
    "SMALL_SIZE = 16\n",
    "MEDIUM_SIZE = 18\n",
    "BIGGER_SIZE = 20\n",
    "\n",
    "plt.rc('font', size=SMALL_SIZE)          # controls default text sizes\n",
    "plt.rc('axes', titlesize=SMALL_SIZE)     # fontsize of the axes title\n",
    "plt.rc('axes', labelsize=MEDIUM_SIZE)    # fontsize of the x and y labels\n",
    "plt.rc('xtick', labelsize=SMALL_SIZE)    # fontsize of the tick labels\n",
    "plt.rc('ytick', labelsize=SMALL_SIZE)    # fontsize of the tick labels\n",
    "plt.rc('legend', fontsize=SMALL_SIZE)    # legend fontsize\n",
    "plt.rc('figure', titlesize=BIGGER_SIZE)  # fontsize of the figure title\n",
    "\n",
    "#SEED = 35010732 # from random.org\n",
    "#np.random.seed(SEED)\n",
    "\n",
    "print(plt.style.available)\n",
    "plt.style.use('seaborn-white')"
   ]
  },
  {
   "cell_type": "code",
   "execution_count": 106,
   "metadata": {},
   "outputs": [],
   "source": [
    "def correlated_ts(c,delta_t = 0.1,N=1000):\n",
    "    # parameters for coupled oscillator\n",
    "    K,D = 1.0,1.0\n",
    "    data1 = langevin.time_series(A=1/K, D=D, delta_t=delta_t, N=N)\n",
    "    data2 = langevin.time_series(A=1/(K+np.abs(c)), D=D, delta_t=delta_t, N=N)\n",
    "    x1 = (data1 + data2)/2\n",
    "    if c>0:\n",
    "        x2 = (data1 - data2)/2\n",
    "    else:\n",
    "        x2 = (data2-data1)/2\n",
    "\n",
    "    return x1,x2\n",
    "\n",
    "def c_rho(rho):\n",
    "    return 2*np.abs(rho)/(1-np.abs(rho))*np.sign(rho)\n"
   ]
  },
  {
   "cell_type": "code",
   "execution_count": 107,
   "metadata": {},
   "outputs": [
    {
     "name": "stdout",
     "output_type": "stream",
     "text": [
      "N:  1000 delta t:  0.1 rho:  0.5\n",
      "Pearson r,p:  (0.458312570774596, 4.381016952424052e-53)\n",
      "0.31563667717896526 0.31775888417528353\n"
     ]
    }
   ],
   "source": [
    "N = 1000\n",
    "delta_t = 0.1\n",
    "rho = 0.5\n",
    "print(\"N: \",N,\"delta t: \",delta_t,\"rho: \",rho)\n",
    "\n",
    "x1,x2 = correlated_ts(c_rho(rho),delta_t=delta_t,N=N)\n",
    "print(\"Pearson r,p: \",pearsonr(x1,x2))\n",
    "print(x1.std()**2,x2.std()**2)"
   ]
  },
  {
   "cell_type": "code",
   "execution_count": 108,
   "metadata": {},
   "outputs": [],
   "source": [
    "def calc_fundstats(x):\n",
    "    return x[0]**2+x[-1]**2,np.sum(x[1:-1]**2),np.sum(x[0:-1]*x[1:])"
   ]
  },
  {
   "cell_type": "code",
   "execution_count": 118,
   "metadata": {},
   "outputs": [],
   "source": [
    "def b(D,A,delta_t):\n",
    "    return np.exp(-D/A*delta_t)\n",
    "\n",
    "def q(aep,ass,ac,b):\n",
    "    return (aep + (1+b**2)*ass - 2*b*ac)/(1-b**2)\n",
    "\n",
    "def dqdB(aep,ass,ac,b):\n",
    "    return 2*(b*aep+2*b*ass-(1+b**2)*ac)/(1-b**2)**2\n",
    "\n",
    "def d2qdB2(aep,ass,ac,b):\n",
    "    return (6*b+2)/(1-b**2)**3*(aep+2*ass)-(4*b**3+12*b)/(1-b**2)**3*ac\n",
    "\n",
    "def dBdA(b,D,A,delta_t):\n",
    "    return b*D*delta_t/A**2\n",
    "\n",
    "def dBdD(b,A,delta_t):\n",
    "    return -b*delta_t/A\n",
    "\n",
    "def d2BdA2(b,D,A,delta_t):\n",
    "    return b*(D**2*delta_t**2/A**4-2*D*delta_t/A**3)\n",
    "\n",
    "def d2BdD2(b,A,delta_t):\n",
    "    return b*delta_t**2/A**2\n",
    "\n",
    "def d2BdAdD(b,D,A,delta_t):\n",
    "    return b*delta_t/A**2*(1-D*delta_t/A)\n",
    "\n",
    "def d2qdD2(aep,ass,ac,b,A,delta_t):\n",
    "    return d2qdB2(aep,ass,ac,b)*dBdD(b,A,delta_t)**2+dqdB(aep,ass,ac,b)*d2BdD2(b,A,delta_t)\n",
    "\n",
    "def d2qdA2(aep,ass,ac,b,A,delta_t):\n",
    "    return d2qdB2(aep,ass,ac,b)*dBdA(b,D,A,delta_t)**2+dqdB(aep,ass,ac,b)*d2BdA2(b,D,A,delta_t)\n",
    "\n",
    "def d2qdAdD(aep,ass,ac,b,D,A,delta_t):\n",
    "    return d2qdB2(aep,ass,ac,b)*dBdA(b,D,A,delta_t)*dBdD(b,A,delta_t)+dqdB(aep,ass,ac,b)*d2BdAdD(b,D,A,delta_t)\n",
    "\n",
    "def d2PdA2(N,aep,ass,ac,b,D,A,delta_t):\n",
    "    return (N/2/A**2 - \n",
    "            q(aep,ass,ac,b)/A**3 +\n",
    "            (N-1)/(1-b**2)*(b*d2BdA2(b,D,A,delta_t) + dBdA(b,D,A,delta_t)**2*(1+2*b**2/(1-b**2))) -\n",
    "            d2qdA2(aep,ass,ac,b,A,delta_t)/2/A)\n",
    "        \n",
    "def d2PdAdD(N,aep,ass,ac,b,D,A,delta_t):\n",
    "    return (dqdB(aep,ass,ac,b)*dBdD(b,A,delta_t)/2/A**2 -\n",
    "            d2qdAdD(aep,ass,ac,b,D,A,delta_t)/2/A +\n",
    "            (N-1)/(1-b**2)*(b*d2BdAdD(b,D,A,delta_t) + dBdA(b,D,A,delta_t)*dBdD(b,A,delta_t)*(1+2*b**2/(1-b**2))))\n",
    "\n",
    "def d2PdD2(N,a1ep,a1ss,a1c,a2ep,a2ss,a2c,b1,b2,D,A1,A2,delta_t):\n",
    "    return ((N-1)/(1-b1**2)*(b1*d2BdD2(b1,A1,delta_t) + dBdD(b1,A1,delta_t)**2*(1+2*b1**2/(1-b2**2)))+\n",
    "           (N-1)/(1-b2**2)*(b2*d2BdD2(b2,A2,delta_t) + dBdD(b2,A2,delta_t)**2*(1+2*b2**2/(1-b2**2)))-\n",
    "           d2qdD2(a1ep,a1ss,a1c,b1,A1,delta_t)/2/A1 -\n",
    "           d2qdD2(a2ep,a2ss,a2c,b2,A2,delta_t)/2/A2)\n",
    "           \n",
    "def phi_deriv(x,a1ep,a1ss,a1c,a2ep,a2ss,a2c,delta_t,N):\n",
    "    # x[0] = A1, x[1] = A2, x[2]=D\n",
    "    A1 = x[0]\n",
    "    A2 = x[1]\n",
    "    D = x[2]\n",
    "    b1 = b(D,A1,delta_t)\n",
    "    b2 = b(D,A2,delta_t)\n",
    "    Q1 = q(a1ep,a1ss,a1c,b1)\n",
    "    Q2 = q(a2ep,a2ss,a2c,b2)\n",
    "    dQ1 = dqdB(a1ep,a1ss,a1c,b1)\n",
    "    dQ2 = dqdB(a2ep,a2ss,a2c,b2)\n",
    "    y1 = -N*A1**2/2 + A1*Q1/2 + b1*D*delta_t*(A1*b1*(N-1)/(1-b1**2)-dQ1/2)\n",
    "    y2 = -N*A2**2/2 + A2*Q2/2 + b2*D*delta_t*(A2*b2*(N-1)/(1-b2**2)-dQ2/2)\n",
    "    y3 = (b1*(N-1)/(1-b1**2)-dQ1/A1/2)*b1/A1 + (b2*(N-1)/(1-b2**2)-dQ2/A2/2)*b2/A2\n",
    "    return np.array([y1,y2,y3])"
   ]
  },
  {
   "cell_type": "code",
   "execution_count": 110,
   "metadata": {},
   "outputs": [
    {
     "data": {
      "text/plain": [
       "(0.6184774303774518,\n",
       " 933.5322643436516,\n",
       " 836.2843734009289,\n",
       " 0.9533059876309121,\n",
       " 343.1761767636523,\n",
       " 259.09241969926336,\n",
       " 0.1,\n",
       " 1000)"
      ]
     },
     "execution_count": 110,
     "metadata": {},
     "output_type": "execute_result"
    }
   ],
   "source": [
    "para = calc_fundstats(x1+x2) + calc_fundstats(x1-x2) +(delta_t,N)\n",
    "para"
   ]
  },
  {
   "cell_type": "code",
   "execution_count": 111,
   "metadata": {},
   "outputs": [
    {
     "name": "stdout",
     "output_type": "stream",
     "text": [
      "0.9236870799741639 0.3431040427343337 0.5 0.45830999825645974\n",
      "[0.92820734 0.34527659 1.00402593]\n"
     ]
    }
   ],
   "source": [
    "guessa1 = (x1+x2).std()**2\n",
    "guessa2 = (x1-x2).std()**2\n",
    "guessd = 0.5\n",
    "c_guess = (guessa1-guessa2)/guessa2\n",
    "print(guessa1,guessa2,guessd,c_guess/(2+c_guess))\n",
    "result = root(phi_deriv, [guessa1,guessa2,guessd],args=para)\n",
    "print(result.x)\n",
    "#print(phi_deriv(result.x,*para))\n",
    "#print(phi_deriv([guessa1,guessa2,guessd],*para))\n",
    "A1 = result.x[0]\n",
    "A2 = result.x[1]\n",
    "D = result.x[2]"
   ]
  },
  {
   "cell_type": "code",
   "execution_count": 112,
   "metadata": {},
   "outputs": [
    {
     "name": "stdout",
     "output_type": "stream",
     "text": [
      "1.688300814770942 0.4577448802466488\n"
     ]
    }
   ],
   "source": [
    "c_max = (result.x[0]-result.x[1])/result.x[1]\n",
    "rho_max = c_max/(2+c_max)\n",
    "print(c_max,rho_max)"
   ]
  },
  {
   "cell_type": "code",
   "execution_count": 119,
   "metadata": {},
   "outputs": [],
   "source": [
    "# lets calculate the Jacobian\n",
    "b1 = b(D,A1,delta_t)\n",
    "b2 = b(D,A2,delta_t)\n",
    "a1ep,a1ss,a1c = calc_fundstats(x1+x2)\n",
    "a2ep,a2ss,a2c = calc_fundstats(x1-x2)\n",
    "d2PdA2_1m = d2PdA2(N,a1ep,a1ss,a1c,b1,D,A1,delta_t)\n",
    "d2PdA2_2m = d2PdA2(N,a2ep,a2ss,a2c,b2,D,A2,delta_t)\n",
    "d2PdD2m = d2PdD2(N,a1ep,a1ss,a1c,a2ep,a2ss,a2c,b1,b2,D,A1,A2,delta_t)\n",
    "d2PdAdD_1m = d2PdAdD(N,a1ep,a1ss,a1c,b1,D,A1,delta_t)\n",
    "d2PdAdD_2m = d2PdAdD(N,a2ep,a2ss,a2c,b2,D,A2,delta_t)"
   ]
  },
  {
   "cell_type": "code",
   "execution_count": 120,
   "metadata": {},
   "outputs": [
    {
     "data": {
      "text/plain": [
       "array([[ -1955.68549736,      0.        ,    765.15452146],\n",
       "       [     0.        , -12371.83980484,   1820.56451235],\n",
       "       [   765.15452146,   1820.56451235,  -2364.76979149]])"
      ]
     },
     "execution_count": 120,
     "metadata": {},
     "output_type": "execute_result"
    }
   ],
   "source": [
    "jacob = np.array([[d2PdA2_1m,0,d2PdAdD_1m],[0,d2PdA2_2m,d2PdAdD_2m],[d2PdAdD_1m,d2PdAdD_2m,d2PdD2m]])\n",
    "jacob"
   ]
  },
  {
   "cell_type": "code",
   "execution_count": 121,
   "metadata": {},
   "outputs": [
    {
     "data": {
      "text/plain": [
       "array([[5.96488686e-04, 3.20296607e-05, 2.17660967e-04],\n",
       "       [3.20296607e-05, 9.28755855e-05, 8.18657425e-05],\n",
       "       [2.17660967e-04, 8.18657425e-05, 5.56327361e-04]])"
      ]
     },
     "execution_count": 121,
     "metadata": {},
     "output_type": "execute_result"
    }
   ],
   "source": [
    "var = -np.linalg.inv(jacob)\n",
    "var"
   ]
  },
  {
   "cell_type": "code",
   "execution_count": 117,
   "metadata": {},
   "outputs": [
    {
     "data": {
      "text/plain": [
       "0.008600933994388464"
      ]
     },
     "execution_count": 117,
     "metadata": {},
     "output_type": "execute_result"
    }
   ],
   "source": [
    "np.sqrt(var[1,1])"
   ]
  },
  {
   "cell_type": "code",
   "execution_count": null,
   "metadata": {},
   "outputs": [],
   "source": []
  }
 ],
 "metadata": {
  "kernelspec": {
   "display_name": "Python 3",
   "language": "python",
   "name": "python3"
  },
  "language_info": {
   "codemirror_mode": {
    "name": "ipython",
    "version": 3
   },
   "file_extension": ".py",
   "mimetype": "text/x-python",
   "name": "python",
   "nbconvert_exporter": "python",
   "pygments_lexer": "ipython3",
   "version": "3.6.10"
  }
 },
 "nbformat": 4,
 "nbformat_minor": 2
}
