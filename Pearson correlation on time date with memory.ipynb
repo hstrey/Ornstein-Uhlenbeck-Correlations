{
 "cells": [
  {
   "cell_type": "code",
   "execution_count": 2,
   "metadata": {},
   "outputs": [
    {
     "name": "stdout",
     "output_type": "stream",
     "text": [
      "['seaborn-dark', 'seaborn-darkgrid', 'seaborn-ticks', 'fivethirtyeight', 'seaborn-whitegrid', 'classic', '_classic_test', 'fast', 'seaborn-talk', 'seaborn-dark-palette', 'seaborn-bright', 'seaborn-pastel', 'grayscale', 'seaborn-notebook', 'ggplot', 'seaborn-colorblind', 'seaborn-muted', 'seaborn', 'Solarize_Light2', 'seaborn-paper', 'bmh', 'tableau-colorblind10', 'seaborn-white', 'dark_background', 'seaborn-poster', 'seaborn-deep']\n"
     ]
    }
   ],
   "source": [
    "%matplotlib inline\n",
    "import numpy as np\n",
    "import matplotlib.pyplot as plt\n",
    "import pandas as pd\n",
    "import langevin\n",
    "from scipy.stats import pearsonr\n",
    "\n",
    "SMALL_SIZE = 16\n",
    "MEDIUM_SIZE = 18\n",
    "BIGGER_SIZE = 20\n",
    "\n",
    "plt.rc('font', size=SMALL_SIZE)          # controls default text sizes\n",
    "plt.rc('axes', titlesize=SMALL_SIZE)     # fontsize of the axes title\n",
    "plt.rc('axes', labelsize=MEDIUM_SIZE)    # fontsize of the x and y labels\n",
    "plt.rc('xtick', labelsize=SMALL_SIZE)    # fontsize of the tick labels\n",
    "plt.rc('ytick', labelsize=SMALL_SIZE)    # fontsize of the tick labels\n",
    "plt.rc('legend', fontsize=SMALL_SIZE)    # legend fontsize\n",
    "plt.rc('figure', titlesize=BIGGER_SIZE)  # fontsize of the figure title\n",
    "\n",
    "SEED = 35010732 # from random.org\n",
    "np.random.seed(SEED)\n",
    "\n",
    "print(plt.style.available)\n",
    "plt.style.use('seaborn-white')"
   ]
  },
  {
   "cell_type": "code",
   "execution_count": 3,
   "metadata": {},
   "outputs": [],
   "source": [
    "def correlated_ts(c,delta_t = 0.1,N=1000):\n",
    "    # parameters for coupled oscillator\n",
    "    K,D = 1.0,1.0\n",
    "    data1 = langevin.time_series(A=1/K, D=D, delta_t=delta_t, N=N)\n",
    "    data2 = langevin.time_series(A=1/(K+np.abs(c)), D=D, delta_t=delta_t, N=N)\n",
    "    x1 = (data1 + data2)/2\n",
    "    if c>0:\n",
    "        x2 = (data1 - data2)/2\n",
    "    else:\n",
    "        x2 = (data2-data1)/2\n",
    "\n",
    "    return x1,x2\n",
    "\n",
    "def c_rho(rho):\n",
    "    return 2*np.abs(rho)/(1-np.abs(rho))*np.sign(rho)\n"
   ]
  },
  {
   "cell_type": "code",
   "execution_count": 22,
   "metadata": {},
   "outputs": [
    {
     "name": "stdout",
     "output_type": "stream",
     "text": [
      "35\n"
     ]
    }
   ],
   "source": [
    "pearson_list = []\n",
    "M = 1000\n",
    "N = int(28/0.8)\n",
    "print(N)\n",
    "delta_t = 0.2\n",
    "rho = 0.3\n",
    "for i in range(M):\n",
    "    x1,x2 = correlated_ts(c_rho(rho),delta_t=delta_t,N=N)\n",
    "    pearson_list.append(pearsonr(x1,x2)[0])\n",
    "pearson_list = np.array(pearson_list)"
   ]
  },
  {
   "cell_type": "code",
   "execution_count": 23,
   "metadata": {},
   "outputs": [
    {
     "data": {
      "text/plain": [
       "(array([0.01289621, 0.12896214, 0.28371671, 0.78022097, 0.95431986,\n",
       "        1.21869225, 1.23803657, 1.14776307, 0.58677775, 0.09672161]),\n",
       " array([-0.67969048, -0.52460621, -0.36952194, -0.21443767, -0.0593534 ,\n",
       "         0.09573088,  0.25081515,  0.40589942,  0.56098369,  0.71606796,\n",
       "         0.87115223]),\n",
       " <a list of 10 Patch objects>)"
      ]
     },
     "execution_count": 23,
     "metadata": {},
     "output_type": "execute_result"
    },
    {
     "data": {
      "image/png": "[encoded data removed]",
      "text/plain": [
       "<Figure size 432x288 with 1 Axes>"
      ]
     },
     "metadata": {},
     "output_type": "display_data"
    }
   ],
   "source": [
    "plt.hist(pearson_list,density=True)"
   ]
  },
  {
   "cell_type": "code",
   "execution_count": 24,
   "metadata": {},
   "outputs": [
    {
     "name": "stdout",
     "output_type": "stream",
     "text": [
      "0.21667848959771924 0.27761230332890907\n"
     ]
    }
   ],
   "source": [
    "print(pearson_list.mean(),pearson_list.std())"
   ]
  },
  {
   "cell_type": "code",
   "execution_count": 30,
   "metadata": {},
   "outputs": [],
   "source": [
    "pearson_list2 = []\n",
    "M = 1000\n",
    "N = int(28/0.8)\n",
    "delta_t = 0.3\n",
    "rho = 0.3\n",
    "for i in range(M):\n",
    "    x1,x2 = correlated_ts(c_rho(rho),delta_t=delta_t,N=M)\n",
    "    pearson_list2.append(pearsonr(x1,x2)[0])\n",
    "pearson_list2 = np.array(pearson_list2)"
   ]
  },
  {
   "cell_type": "code",
   "execution_count": 31,
   "metadata": {},
   "outputs": [
    {
     "data": {
      "text/plain": [
       "(array([0.09898556, 0.65990376, 1.71574978, 4.38836   , 7.09396542,\n",
       "        8.11681625, 6.92898948, 3.13454286, 0.75888932, 0.09898556]),\n",
       " array([0.13927661, 0.16958406, 0.19989151, 0.23019896, 0.26050641,\n",
       "        0.29081386, 0.32112131, 0.35142876, 0.38173621, 0.41204366,\n",
       "        0.44235111]),\n",
       " <a list of 10 Patch objects>)"
      ]
     },
     "execution_count": 31,
     "metadata": {},
     "output_type": "execute_result"
    },
    {
     "data": {
      "image/png": "[encoded data removed]",
      "text/plain": [
       "<Figure size 432x288 with 1 Axes>"
      ]
     },
     "metadata": {},
     "output_type": "display_data"
    }
   ],
   "source": [
    "plt.hist(pearson_list2,density=True)"
   ]
  },
  {
   "cell_type": "code",
   "execution_count": 32,
   "metadata": {},
   "outputs": [
    {
     "name": "stdout",
     "output_type": "stream",
     "text": [
      "0.2982021125520271 0.04604440622870032\n"
     ]
    }
   ],
   "source": [
    "print(pearson_list2.mean(),pearson_list2.std())"
   ]
  },
  {
   "cell_type": "code",
   "execution_count": 33,
   "metadata": {},
   "outputs": [
    {
     "name": "stdout",
     "output_type": "stream",
     "text": [
      "0.27338378744746317\n"
     ]
    }
   ],
   "source": [
    "print((pearson_list2.mean()-pearson_list.mean())/pearson_list2.mean())"
   ]
  },
  {
   "cell_type": "code",
   "execution_count": null,
   "metadata": {},
   "outputs": [],
   "source": []
  }
 ],
 "metadata": {
  "kernelspec": {
   "display_name": "Python 3",
   "language": "python",
   "name": "python3"
  },
  "language_info": {
   "codemirror_mode": {
    "name": "ipython",
    "version": 3
   },
   "file_extension": ".py",
   "mimetype": "text/x-python",
   "name": "python",
   "nbconvert_exporter": "python",
   "pygments_lexer": "ipython3",
   "version": "3.6.10"
  }
 },
 "nbformat": 4,
 "nbformat_minor": 2
}
